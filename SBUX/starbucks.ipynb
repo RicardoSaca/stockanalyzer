{
 "cells": [
  {
   "cell_type": "markdown",
   "source": [
    "# Starbucks Ratio Analysis\n",
    "## MBA 700 - Capstone project\n",
    "## Ricardo Saca"
   ],
   "metadata": {}
  },
  {
   "cell_type": "markdown",
   "source": [
    "## Import Packages"
   ],
   "metadata": {}
  },
  {
   "cell_type": "code",
   "execution_count": 1,
   "source": [
    "import pandas as pd\n",
    "import numpy as np\n",
    "import writer"
   ],
   "outputs": [],
   "metadata": {}
  },
  {
   "cell_type": "markdown",
   "source": [
    "## Gather Data"
   ],
   "metadata": {}
  },
  {
   "cell_type": "markdown",
   "source": [
    "Formula to clean data"
   ],
   "metadata": {}
  },
  {
   "cell_type": "code",
   "execution_count": 2,
   "source": [
    "#Formula to clean financial statments from SEC\n",
    "def clean_data(data):\n",
    "    data = data.copy()\n",
    "    #identify columns and year\n",
    "    columns = list(data.loc[1])\n",
    "    #Deal with format change in 2018 statements\n",
    "    if columns[1] is np.nan:\n",
    "        columns = list(data.loc[2])\n",
    "        for index, col in enumerate(columns):\n",
    "            if type(col) == 'float':\n",
    "                pass\n",
    "                columns[index] = col.replace(u'\\xa0', u' ')\n",
    "    columns[0] = 'Account'\n",
    "    #rename columns\n",
    "    data.columns = columns\n",
    "    #drop empty columns\n",
    "    data = data.dropna()\n",
    "    #drop title column\n",
    "    data.drop(data.index[0], inplace=True)\n",
    "    #reset index\n",
    "    data = data.reset_index(drop=True)\n",
    "    #clean negative numbers\n",
    "    for col in data:\n",
    "        if col == 'Account':\n",
    "            pass\n",
    "        else:\n",
    "            data[col] = data[col].map(lambda x: x.replace('(','-').replace(')','').replace(',','').replace('—','0'))\n",
    "    #convert to float\n",
    "    dates = columns[1:]\n",
    "    data[dates] = data[dates].astype(float)\n",
    "    #set account as index\n",
    "    data.set_index('Account', inplace=True)\n",
    "    #return clean data\n",
    "    return data"
   ],
   "outputs": [],
   "metadata": {}
  },
  {
   "cell_type": "markdown",
   "source": [
    "Gather 2020 data from SEC"
   ],
   "metadata": {}
  },
  {
   "cell_type": "code",
   "execution_count": 15,
   "source": [
    "#2020_url\n",
    "url = \"https://www.sec.gov/Archives/edgar/data/0000829224/000082922420000078/sbux-20200927.htm\"\n",
    "\n",
    "#read tables of url file\n",
    "sec = pd.read_html(url)"
   ],
   "outputs": [],
   "metadata": {}
  },
  {
   "cell_type": "markdown",
   "source": [
    "Gather 2018 data from SEC"
   ],
   "metadata": {}
  },
  {
   "cell_type": "code",
   "execution_count": 12,
   "source": [
    "#2018_url (in order to get 3 yrs of data in analysis, also need 2017 for pct change) \n",
    "url_2018 = \"https://www.sec.gov/Archives/edgar/data/829224/000082922418000052/sbux-9302018x10xk.htm#s67ECBBF7328F565DB062A56D81B66975\"\n",
    "\n",
    "sec2018 = pd.read_html(url_2018)"
   ],
   "outputs": [],
   "metadata": {}
  },
  {
   "cell_type": "markdown",
   "source": [
    "2020"
   ],
   "metadata": {}
  },
  {
   "cell_type": "code",
   "execution_count": 16,
   "source": [
    "earnings20 = sec[32][[2,4,10,16]].copy()\n",
    "inc20 = sec[33][[2,4,10,16]].copy()\n",
    "balsht20 = sec[34][[2,4,10]].copy()\n",
    "cf20 = sec[35][[2,4,10,16]].copy()"
   ],
   "outputs": [],
   "metadata": {}
  },
  {
   "cell_type": "markdown",
   "source": [
    "2018"
   ],
   "metadata": {}
  },
  {
   "cell_type": "code",
   "execution_count": 17,
   "source": [
    "2018 \n",
    "earnings18 = sec2018[132][[0,2,6,10]].copy()\n",
    "inc18 = sec2018[133][[0,2,6,10]].copy()\n",
    "balsht18 = sec2018[134][[0,2,6]].copy()\n",
    "cf18 = sec2018[135][[0,2,6,10]].copy()"
   ],
   "outputs": [],
   "metadata": {}
  },
  {
   "cell_type": "markdown",
   "source": [
    "### Cleaning Data"
   ],
   "metadata": {}
  },
  {
   "cell_type": "code",
   "execution_count": 18,
   "source": [
    "earnings20 = clean_data(earnings20)\n",
    "inc20 = clean_data(inc20)\n",
    "balsht20 = clean_data(balsht20)\n",
    "cf20 = clean_data(cf20)\n",
    "earnings18 = clean_data(earnings18) \n",
    "inc18 = clean_data(inc18)\n",
    "balsht18 = clean_data(balsht18)\n",
    "cf18 = clean_data(cf18)"
   ],
   "outputs": [],
   "metadata": {}
  },
  {
   "cell_type": "markdown",
   "source": [
    "Save Data in Excel"
   ],
   "metadata": {}
  },
  {
   "cell_type": "code",
   "execution_count": 22,
   "source": [
    "#pip install xlsxwriter to save dataß\n",
    "writer = pd.ExcelWriter('SBUX Financials.xlsx', engine='xlsxwriter')\n",
    "\n",
    "# Write each dataframe to a different worksheet.\n",
    "earnings20.to_excel(writer, sheet_name='earnings 20')\n",
    "inc20.to_excel(writer, sheet_name='income 20')\n",
    "balsht20.to_excel(writer, sheet_name='bal sht 20')\n",
    "cf20.to_excel(writer, sheet_name='cf 20')\n",
    "earnings18.to_excel(writer, sheet_name='earnings 18')\n",
    "inc18.to_excel(writer, sheet_name='income 18')\n",
    "balsht18.to_excel(writer, sheet_name='bal sht 18')\n",
    "cf18.to_excel(writer, sheet_name='cf 18')\n",
    "\n",
    "# Close the Pandas Excel writer and output the Excel file.\n",
    "writer.save()"
   ],
   "outputs": [],
   "metadata": {}
  }
 ],
 "metadata": {
  "orig_nbformat": 4,
  "language_info": {
   "name": "python",
   "version": "3.9.6",
   "mimetype": "text/x-python",
   "codemirror_mode": {
    "name": "ipython",
    "version": 3
   },
   "pygments_lexer": "ipython3",
   "nbconvert_exporter": "python",
   "file_extension": ".py"
  },
  "kernelspec": {
   "name": "python3",
   "display_name": "Python 3.9.6 64-bit ('stocks': venv)"
  },
  "interpreter": {
   "hash": "3902a63bcccd4c2f3be79d72a9744a796e4e2a30e80b1bdde020f01381728874"
  }
 },
 "nbformat": 4,
 "nbformat_minor": 2
}