{
 "cells": [
  {
   "cell_type": "code",
   "execution_count": 91,
   "metadata": {},
   "outputs": [],
   "source": [
    "import yfinance as yf\n",
    "import pandas as pd\n",
    "import numpy as np\n",
    "import matplotlib.pyplot as plt\n",
    "import sys\n",
    "from datetime import timedelta\n",
    "from bs4 import BeautifulSoup\n",
    "from urllib.parse import urlparse, parse_qs\n",
    "from requests import get"
   ]
  },
  {
   "cell_type": "code",
   "execution_count": 92,
   "metadata": {},
   "outputs": [],
   "source": [
    "\n",
    "class Stock:\n",
    "    def __init__(self, ticker):\n",
    "        self.ticker = ticker\n",
    "        try:\n",
    "            self.yfin = yf.Ticker(ticker)\n",
    "        except:\n",
    "            e = sys.exc_info()[0]\n",
    "            print(f'There was an error: {e}')\n",
    "\n",
    "    def find_top_dates(self, period, numOfDates):\n",
    "        close = self.yfin.history(period)['Close']\n",
    "        close = close.to_frame()\n",
    "        close['pct_change'] = close['Close'].pct_change()\n",
    "        close['Abs'] = close['pct_change'].abs()\n",
    "        # pct_chage_abs = pct_chage.abs()\n",
    "        sorted_abs = close.sort_values(ascending=False, by='Abs')\n",
    "\n",
    "        self.topMovingDays = sorted_abs[:numOfDates]\n",
    "        self.topDates = self.topMovingDays.index\n",
    "        return self.topDates\n",
    "\n",
    "    def prep_urls(self):\n",
    "        urls = []\n",
    "        for date in self.topDates:\n",
    "            lowRange = (date + timedelta(days=-2)).strftime('%Y-%m-%d')\n",
    "            highRange = (date + timedelta(days=2)).strftime('%Y-%m-%d')\n",
    "            url = f'https://duckduckgo.com/html/?q=%24{self.ticker}&t=h_&df={lowRange}..{highRange}&ia=stock'\n",
    "            urls.append(url)\n",
    "        self.topDateUrls = urls\n",
    "\n",
    "    def webscrape_urls(self):\n",
    "        headers = {\n",
    "                    \"User-Agent\": \"Mozilla/5.0 (Macintosh; Intel Mac OS X 10.15; rv:84.0) Gecko/20100101 Firefox/84.0\",\n",
    "                }\n",
    "        news = {}\n",
    "        for url in self.topDateUrls:\n",
    "            print(url)\n",
    "            page = requests.get(url, headers=headers).text\n",
    "            soup = BeautifulSoup(page, 'html.parser').find_all(\"a\", class_=\"result__a\", href=True)\n",
    "\n",
    "            print(soup)\n",
    "            # r = get(url, headers=headers).text\n",
    "            # soup = BeautifulSoup(r, 'html.parser')\n",
    "            # results = soup.find_all(\"a\", class_='result__a', href=True)\n",
    "            # print(results)\n",
    "\n",
    "            # newLinks = []\n",
    "            # for link in results:\n",
    "            #     url = link['href']\n",
    "            #     print(url)\n",
    "            #     o = urlparse(url)\n",
    "            #     d = parse_qs(o.query)\n",
    "            #     newLinks.append(d['uddg'][0])\n",
    "            #     print(d['uddg'][0])\n",
    "            # news[url] = newLinks\n"
   ]
  },
  {
   "cell_type": "code",
   "execution_count": 110,
   "metadata": {},
   "outputs": [
    {
     "name": "stdout",
     "output_type": "stream",
     "text": [
      "<class 'str'> <!DOCTYPE html><html lang=\"en-US\" class=\"no-js has-zcm  no-theme is-link-style-exp is-link-order-exp is-link-breadcrumb-exp is-related-search-exp is-vertical-tabs-exp\"><head><meta name=\"description\" content=\"DuckDuckGo. Privacy, Simplified.\"><meta http-equiv=\"content-type\" content=\"text/html; charset=utf-8\"><title>$tsla at DuckDuckGo</title><link rel=\"stylesheet\" href=\"/s2026.css\" type=\"text/css\"><link rel=\"stylesheet\" href=\"/r2026.css\" type=\"text/css\"><meta name=\"robots\" content=\"noindex,nofollow\"><meta name=\"referrer\" content=\"origin\"><meta name=\"apple-mobile-web-app-title\" content=\"$tsla\"><link rel=\"preconnect\" href=\"https://links.duckduckgo.com\"><link rel=\"preload\" href=\"/font/ProximaNova-Reg-webfont.woff2\" as=\"font\" type=\"font/woff2\" crossorigin=\"anonymous\" /><link rel=\"preload\" href=\"/font/ProximaNova-Sbold-webfont.woff2\" as=\"font\" type=\"font/woff2\" crossorigin=\"anonymous\" /><link rel=\"shortcut icon\" href=\"/favicon.ico\" type=\"image/x-icon\" /><link id=\"icon60\" rel=\"apple-touch-icon\" href=\"/assets/icons/meta/DDG-iOS-icon_60x60.png?v=2\"/><link id=\"icon76\" rel=\"apple-touch-icon\" sizes=\"76x76\" href=\"/assets/icons/meta/DDG-iOS-icon_76x76.png?v=2\"/><link id=\"icon120\" rel=\"apple-touch-icon\" sizes=\"120x120\" href=\"/assets/icons/meta/DDG-iOS-icon_120x120.png?v=2\"/><link id=\"icon152\" rel=\"apple-touch-icon\" sizes=\"152x152\" href=\"/assets/icons/meta/DDG-iOS-icon_152x152.png?v=2\"/><link rel=\"image_src\" href=\"/assets/icons/meta/DDG-icon_256x256.png\"/><script type=\"text/javascript\">var ct,fd,fq,it,iqa,iqm,iqs,iqp,iqq,qw,dl,ra,rv,rad,r1hc,r1c,r2c,r3c,rfq,rq,rds,rs,rt,rl,y,y1,ti,tig,iqd,shfl,shrl,locale,settings_js_version='s2483.js',is_twitter='',rpl=1;fq=0;fd=1;it=0;iqa=0;iqbi=0;iqm=0;iqs=0;iqp=0;iqq=0;qw=1;dl='';ct='SV';iqd=0;r1hc=0;r1c=0;r3c=0;rq='%24tsla';rqd=\"$tsla\";rfq=0;rt='';ra='h_';rv='';rad='';rds=30;rs=0;spice_version='2000';spice_paths='{}';locale='en_US';settings_url_params={};rl='wt-wt';shfl=0;shrl='us-en';rlo=0;df='2021-12-05..2021-12-10';ds='';sfq='';iar='';vqd='3-305626230949413478011825514524739749593-94465319773669639822905759427215664333';safe_ddg=0;show_covid=0;</script><meta name=\"viewport\" content=\"width=device-width, initial-scale=1\" /><meta name=\"HandheldFriendly\" content=\"true\" /><meta name=\"apple-mobile-web-app-capable\" content=\"no\" /></head><body class=\"body--serp\"><input id=\"state_hidden\" name=\"state_hidden\" type=\"text\" size=\"1\"><!-- Ignore this input please --><div id=\"spacing_hidden_wrapper\"><div id=\"spacing_hidden\"></div></div><script type=\"text/javascript\" src=\"/lib/l124.js\"></script><script type=\"text/javascript\" src=\"/locale/en_US/duckduckgo14.js\"></script><script type=\"text/javascript\" src=\"/util/u595.js\"></script><script type=\"text/javascript\" src=\"/d3028.js\"></script><div class=\"site-wrapper  js-site-wrapper\"><div class=\"welcome-wrap js-welcome-wrap\"></div><div id=\"header_wrapper\" class=\"header-wrap js-header-wrap\"><div id=\"header\" class=\"header  cw\"><div class=\"header__search-wrap\"><a tabindex=\"-1\" href=\"/?t=h_\" class=\"header__logo-wrap js-header-logo\"><span class=\"header__logo js-logo-ddg\">DuckDuckGo</span></a><div class=\"header__content  header__search\"><form id=\"search_form\" class=\"search--adv  search--header js-search-form\" name=\"x\" action=\"/\"><input type=\"text\" name=\"q\" tabindex=\"1\" autocomplete=\"off\" id=\"search_form_input\" class=\"search__input search__input--adv js-search-input\" value=\"$tsla\"><input id=\"search_form_input_clear\" class=\"search__clear  js-search-clear\" type=\"button\" tabindex=\"3\" value=\"X\"/><input id=\"search_button\" class=\"search__button  js-search-button\" type=\"submit\" tabindex=\"2\" value=\"S\" /><a id=\"search_dropdown\" class=\"search__dropdown\" href=\"javascript:;\" tabindex=\"4\"></a><div id=\"search_elements_hidden\" class=\"search__hidden  js-search-hidden\"><input type=\"hidden\" class=\"js-search-hidden-field\" name=\"df\" value=\"2021-12-05..2021-12-10\"></div></form></div></div><div class=\"zcm-wrap-wrap\"><div id=\"duckbar\" class=\"zcm-wrap  zcm-wrap--header  is-noscript-hidden\"></div><div class=\"zcm--right js-zcm-right\"></div></div></div><div class=\"header--aside js-header-aside\"></div></div><div id=\"zero_click_wrapper\" class=\"zci-wrap\"></div><div id=\"vertical_wrapper\" class=\"verticals\"></div><div id=\"web_content_wrapper\" class=\"content-wrap \"><div class=\"serp__top-right  js-serp-top-right\"></div><div class=\"serp__bottom-right  js-serp-bottom-right\"><div class=\"js-feedback-btn-wrap\"></div></div><div class=\"cw\"><div id=\"links_wrapper\" class=\"serp__results js-serp-results\"><div class=\"results--main\"><div class=\"search-filters-wrap\"><div class=\"js-search-filters search-filters\"></div></div><noscript><meta http-equiv=\"refresh\" content=\"0;URL=/html?q=%24tsla\"><link href=\"/css/noscript.css\" rel=\"stylesheet\" type=\"text/css\"><div class=\"msg msg--noscript\"><p class=\"msg-title--noscript\">You are being redirected to the non-JavaScript site.</p>Click <a href=\"/html/?q=%24tsla\">here</a> if it doesn't happen automatically.</div></noscript><div id=\"message\" class=\"results--message\"></div><div class=\"ia-modules js-ia-modules\"></div><div id=\"ads\" class=\"results--ads results--ads--main is-invisible js-results-ads\"></div><div id=\"links\" class=\"results is-invisible js-results\"></div></div><div class=\"results--sidebar js-results-sidebar\"><div class=\"sidebar-modules js-sidebar-modules\"></div><div class=\"is-invisible js-sidebar-ads\"></div></div></div></div></div><div id=\"bottom_spacing2\"> </div></div><script type=\"text/javascript\"></script><script type=\"text/JavaScript\">function nrci() {nrc('/share/spice/stocks/2000/stocks.css',1);};DDG.ready(nrci, 1);</script><script type=\"text/JavaScript\">function nrji() {nrj('/t.js?q=%24tsla&l=wt-wt&s=0&ct=SV&ss_mkt=us&df=2021-12-05..2021-12-10&p_ent=&ex=-1');DDG.deep.initialize('/d.js?q=%24tsla&l=wt-wt&s=0&a=h_&ct=SV&ss_mkt=us&df=2021-12-05..2021-12-10&vqd=3-305626230949413478011825514524739749593-94465319773669639822905759427215664333&p_ent=&ex=-1&sp=1');DDH.stocks=DDH.stocks||{};DDH.stocks.meta={\"attribution\":null,\"blockgroup\":\"spice\",\"created_date\":\"2016-03-08\",\"description\":\"Shows stock quote for a ticker\",\"designer\":null,\"dev_date\":null,\"dev_milestone\":\"live\",\"developer\":[{\"name\":\"DDG Team\",\"type\":\"ddg\",\"url\":\"http://www.duckduckhack.com\"}],\"example_query\":\"AAPL\",\"id\":\"stocks\",\"is_stackexchange\":null,\"js_callback_name\":\"stocks\",\"live_date\":null,\"maintainer\":{\"github\":\"bsstoner\"},\"name\":\"Stocks\",\"perl_module\":\"DDG::Spice::Stocks\",\"producer\":\"Moollaza\",\"production_state\":\"online\",\"repo\":\"spice\",\"signal_from\":\"stocks\",\"src_domain\":null,\"src_id\":null,\"src_name\":\"YCharts\",\"src_url\":\"http://www.xignite.com/\",\"status\":\"live\",\"tab\":\"Stock\",\"topic\":[\"finance\"],\"unsafe\":0};;DDG.duckbar.future_signal_tab({signal: 'high', from: 'stocks'});nrj('/share/spice/stocks/2000/stocks.spice.js',1);nrj('/js/spice/stocks/TSLA',1);;};DDG.ready(nrji, 1);</script><script src=\"/g2737.js\"></script><script type=\"text/javascript\">DDG.page = new DDG.Pages.SERP({ showSafeSearch: 0, instantAnswerAds: false, hostRegion: \"use\" });</script><div id=\"z2\"> </div><div id=\"z\"></div></body></html><script type=\"text/JavaScript\">DDG.index = DDG.index || {}; DDG.index.signalSummary = \"stocks:h\";</script>\n"
     ]
    }
   ],
   "source": [
    "import requests\n",
    "from bs4 import BeautifulSoup\n",
    "\n",
    "headers = {\n",
    "    \"User-Agent\": \"Mozilla/5.0 (Macintosh; Intel Mac OS X 10.15; rv:84.0) Gecko/20100101 Firefox/84.0\",\n",
    "}\n",
    "url = 'https://duckduckgo.com/?q=%24tsla&t=h_&df=2021-12-05..2021-12-10&ia=stock'\n",
    "page = requests.get(url, headers=headers).text\n",
    "print(type(page), page)\n",
    "soup = BeautifulSoup(page, 'lxml').find_all(\"a\", class_=\"result__a\", href=True)\n",
    "\n",
    "for link in soup:\n",
    "    print(link['href'])\n",
    "    for i in link :\n",
    "        print(i)"
   ]
  },
  {
   "cell_type": "code",
   "execution_count": 94,
   "metadata": {},
   "outputs": [],
   "source": [
    "ticker = str(input('enter stock ticker:')).upper()\n",
    "stock = Stock(ticker)"
   ]
  },
  {
   "cell_type": "code",
   "execution_count": 95,
   "metadata": {},
   "outputs": [],
   "source": [
    "topFiveDates = stock.find_top_dates('ytd', 5)"
   ]
  },
  {
   "cell_type": "code",
   "execution_count": 96,
   "metadata": {},
   "outputs": [],
   "source": [
    "stock.prep_urls()"
   ]
  },
  {
   "cell_type": "code",
   "execution_count": 97,
   "metadata": {},
   "outputs": [
    {
     "name": "stdout",
     "output_type": "stream",
     "text": [
      "https://duckduckgo.com/html/?q=%24TSLA&t=h_&df=2021-03-07..2021-03-11&ia=stock\n",
      "[]\n",
      "https://duckduckgo.com/html/?q=%24TSLA&t=h_&df=2021-10-23..2021-10-27&ia=stock\n",
      "[]\n",
      "https://duckduckgo.com/html/?q=%24TSLA&t=h_&df=2021-11-07..2021-11-11&ia=stock\n",
      "[]\n",
      "https://duckduckgo.com/html/?q=%24TSLA&t=h_&df=2021-04-11..2021-04-15&ia=stock\n",
      "[]\n",
      "https://duckduckgo.com/html/?q=%24TSLA&t=h_&df=2021-02-20..2021-02-24&ia=stock\n",
      "[]\n"
     ]
    }
   ],
   "source": [
    "stock.webscrape_urls()"
   ]
  },
  {
   "cell_type": "code",
   "execution_count": 98,
   "metadata": {},
   "outputs": [
    {
     "ename": "NameError",
     "evalue": "name 'df' is not defined",
     "output_type": "error",
     "traceback": [
      "\u001b[0;31m---------------------------------------------------------------------------\u001b[0m",
      "\u001b[0;31mNameError\u001b[0m                                 Traceback (most recent call last)",
      "\u001b[0;32m/var/folders/n3/nhthgl6948x2n_zzvjqr5fvw0000gn/T/ipykernel_64783/3323920064.py\u001b[0m in \u001b[0;36m<module>\u001b[0;34m\u001b[0m\n\u001b[0;32m----> 1\u001b[0;31m \u001b[0mdf\u001b[0m \u001b[0;34m=\u001b[0m \u001b[0mdf\u001b[0m\u001b[0;34m.\u001b[0m\u001b[0msort_index\u001b[0m\u001b[0;34m(\u001b[0m\u001b[0;34m)\u001b[0m\u001b[0;34m\u001b[0m\u001b[0;34m\u001b[0m\u001b[0m\n\u001b[0m\u001b[1;32m      2\u001b[0m \u001b[0mplt\u001b[0m\u001b[0;34m.\u001b[0m\u001b[0mfigure\u001b[0m\u001b[0;34m(\u001b[0m\u001b[0mfigsize\u001b[0m\u001b[0;34m=\u001b[0m\u001b[0;34m(\u001b[0m\u001b[0;36m10\u001b[0m\u001b[0;34m,\u001b[0m\u001b[0;36m10\u001b[0m\u001b[0;34m)\u001b[0m\u001b[0;34m)\u001b[0m\u001b[0;34m\u001b[0m\u001b[0;34m\u001b[0m\u001b[0m\n\u001b[1;32m      3\u001b[0m \u001b[0mplt\u001b[0m\u001b[0;34m.\u001b[0m\u001b[0mplot\u001b[0m\u001b[0;34m(\u001b[0m\u001b[0mdf\u001b[0m\u001b[0;34m.\u001b[0m\u001b[0mindex\u001b[0m\u001b[0;34m,\u001b[0m \u001b[0mdf\u001b[0m\u001b[0;34m[\u001b[0m\u001b[0;34m'Close'\u001b[0m\u001b[0;34m]\u001b[0m\u001b[0;34m)\u001b[0m\u001b[0;34m\u001b[0m\u001b[0;34m\u001b[0m\u001b[0m\n\u001b[1;32m      4\u001b[0m \u001b[0mplt\u001b[0m\u001b[0;34m.\u001b[0m\u001b[0mxlabel\u001b[0m\u001b[0;34m(\u001b[0m\u001b[0;34m\"date\"\u001b[0m\u001b[0;34m)\u001b[0m\u001b[0;34m\u001b[0m\u001b[0;34m\u001b[0m\u001b[0m\n\u001b[1;32m      5\u001b[0m \u001b[0mplt\u001b[0m\u001b[0;34m.\u001b[0m\u001b[0mylabel\u001b[0m\u001b[0;34m(\u001b[0m\u001b[0;34m\"$ price\"\u001b[0m\u001b[0;34m)\u001b[0m\u001b[0;34m\u001b[0m\u001b[0;34m\u001b[0m\u001b[0m\n",
      "\u001b[0;31mNameError\u001b[0m: name 'df' is not defined"
     ]
    }
   ],
   "source": [
    "df = df.sort_index()\n",
    "plt.figure(figsize=(10,10))\n",
    "plt.plot(df.index, df['Close'])\n",
    "plt.xlabel(\"date\")\n",
    "plt.ylabel(\"$ price\")\n",
    "plt.title(f'{ticker} Stock price {df.index.min().strftime(\"%m/%d/%Y\")} - {df.index.max().strftime(\"%m/%d/%Y\")}')\n",
    "plt.annotate('Test', xy=(3,1))"
   ]
  },
  {
   "cell_type": "code",
   "execution_count": null,
   "metadata": {},
   "outputs": [],
   "source": [
    "#Gather news stories\n",
    "from requests import get\n",
    "\n",
    "#Get first date of search to search google after initial date.\n",
    "# use df.tail(1) to get most recent date\n",
    "date = df.head(1).index[0].strftime('%Y-%m-%d')\n",
    "\n",
    "url = f'https://www.google.com/search?q={ticker}+after:{date}'\n",
    "header = {\n",
    "    \"User-Agent\": \"Mozilla/5.0 (X11; Linux x86_64) AppleWebKit/537.36 (KHTML, like Gecko) Chrome/50.0.2661.75 Safari/537.36\",\n",
    "    \"X-Requested-With\": \"XMLHttpRequest\"\n",
    "}\n",
    "r = get(url, headers=header)\n",
    "\n",
    "results = pd.read_html(r.text)"
   ]
  },
  {
   "cell_type": "code",
   "execution_count": null,
   "metadata": {},
   "outputs": [
    {
     "data": {
      "text/plain": [
       "[    0  1  2  3  4  5  6  7  8          9\n",
       " 0 NaN  1  2  3  4  5  6  7  8  Siguiente]"
      ]
     },
     "execution_count": 257,
     "metadata": {},
     "output_type": "execute_result"
    }
   ],
   "source": [
    "results"
   ]
  }
 ],
 "metadata": {
  "interpreter": {
   "hash": "3902a63bcccd4c2f3be79d72a9744a796e4e2a30e80b1bdde020f01381728874"
  },
  "kernelspec": {
   "display_name": "Python 3.9.7 64-bit ('stocks': venv)",
   "name": "python3"
  },
  "language_info": {
   "codemirror_mode": {
    "name": "ipython",
    "version": 3
   },
   "file_extension": ".py",
   "mimetype": "text/x-python",
   "name": "python",
   "nbconvert_exporter": "python",
   "pygments_lexer": "ipython3",
   "version": "3.9.9"
  },
  "orig_nbformat": 4
 },
 "nbformat": 4,
 "nbformat_minor": 2
}
